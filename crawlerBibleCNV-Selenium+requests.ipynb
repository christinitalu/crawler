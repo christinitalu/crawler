{
 "cells": [
  {
   "cell_type": "code",
   "execution_count": 1,
   "metadata": {},
   "outputs": [],
   "source": [
    "import requests\n",
    "from bs4 import BeautifulSoup\n",
    "import time\n",
    "import random\n",
    "import pandas as pd\n",
    "import re\n",
    "from selenium import webdriver\n",
    "import os"
   ]
  },
  {
   "cell_type": "code",
   "execution_count": 5,
   "metadata": {},
   "outputs": [],
   "source": [
    "df=pd.DataFrame(columns=[\"Book\",\"Chapter\",\"contens\"])\n",
    "index=1"
   ]
  },
  {
   "cell_type": "code",
   "execution_count": 8,
   "metadata": {
    "scrolled": false
   },
   "outputs": [],
   "source": [
    "#開起chrome瀏覽器\n",
    "chromedriver='/Users/apple/PycharmProjects/crawler/chromedriver'\n",
    "driver = webdriver.Chrome(chromedriver)\n",
    "driver.implicitly_wait(60)\n",
    "driver.get(\"https://www.bible.com/bible/40/GEN.1.CNV\")"
   ]
  },
  {
   "cell_type": "code",
   "execution_count": null,
   "metadata": {},
   "outputs": [],
   "source": [
    "#第一筆\n",
    "bc=driver.find_element_by_xpath(\"/html/body/div[1]/div[1]/header/div/div[1]/span\").text\n",
    "#用正則表達式取書名\n",
    "book=re.split(\"\\s\",bc)[0]\n",
    "#用str的分割符號曲章名\n",
    "chapter=bc.split(' ')[1]\n",
    "\n",
    "#獲得當前網址\n",
    "now_url=driver.current_url\n",
    "#用requests得到本章內容contens\n",
    "response = requests.get(now_url)\n",
    "html = BeautifulSoup(response.text)\n",
    "con=\"\"\n",
    "cons=html.find_all(\"span\",class_=\"content\")\n",
    "for n in cons:\n",
    "    con=con+(n.text)\n",
    "contens=con.replace(\"\\u3000\",\"\")\n",
    "\n",
    "#放入df裡\n",
    "df.loc[index] = [book,chapter,contens]\n",
    "print(\"index :\",index)\n",
    "print(\"book :\",book)\n",
    "print(\"chapter :\",chapter)\n",
    "print(\"content :\", contens[0:10])\n",
    "index=index+1\n",
    "#按下一頁\n",
    "driver.find_element_by_xpath(\"\"\"/html/body/div[1]/div[2]/a\"\"\").click()"
   ]
  },
  {
   "cell_type": "code",
   "execution_count": null,
   "metadata": {
    "scrolled": false
   },
   "outputs": [],
   "source": [
    "#二到倒數第二筆\n",
    "for i in range(2,1189):\n",
    "    bc=driver.find_element_by_xpath(\"/html/body/div[1]/div[1]/header/div/div[1]/span\").text\n",
    "    #用正則表達式取書名\n",
    "    book=re.split(\"\\s\",bc)[0]\n",
    "    #用str的分割符號曲章名\n",
    "    chapter=bc.split(' ')[1]\n",
    "\n",
    "    #獲得當前網址\n",
    "    now_url=driver.current_url\n",
    "    #用requests得到本章內容contens\n",
    "    response = requests.get(now_url)\n",
    "    html = BeautifulSoup(response.text)\n",
    "    con=\"\"\n",
    "    cons=html.find_all(\"span\",class_=\"content\")\n",
    "    for n in cons:\n",
    "        con=con+(n.text)\n",
    "    contens=con.replace(\"\\u3000\",\"\")\n",
    "\n",
    "    #放入df裡\n",
    "    df.loc[i] = [book,chapter,contens]\n",
    "    print(\"index :\",i)\n",
    "    print(\"book :\",book)\n",
    "    print(\"chapter :\",chapter)\n",
    "    print(\"content :\", contens[0:10])\n",
    "    index=index+1\n",
    "    #按下一頁\n",
    "    driver.find_element_by_xpath(\"\"\"/html/body/div[1]/div[2]/a[2]\"\"\").click()\n"
   ]
  },
  {
   "cell_type": "code",
   "execution_count": null,
   "metadata": {},
   "outputs": [],
   "source": [
    "#最後一筆資料\n",
    "bc=driver.find_element_by_xpath(\"/html/body/div[1]/div[1]/header/div/div[1]/span\").text\n",
    "#用正則表達式取書名\n",
    "book=re.split(\"\\s\",bc)[0]\n",
    "#用str的分割符號曲章名\n",
    "chapter=bc.split(' ')[1]\n",
    "\n",
    "#獲得當前網址\n",
    "now_url=driver.current_url\n",
    "#用requests得到本章內容contens\n",
    "response = requests.get(now_url)\n",
    "html = BeautifulSoup(response.text)\n",
    "con=\"\"\n",
    "cons=html.find_all(\"span\",class_=\"content\")\n",
    "for n in cons:\n",
    "    con=con+(n.text)\n",
    "contens=con.replace(\"\\u3000\",\"\")\n",
    "\n",
    "#放入df裡\n",
    "df.loc[1189] = [book,chapter,contens]\n",
    "print(\"index :\",1189)\n",
    "print(\"book :\",book)\n",
    "print(\"chapter :\",chapter)\n",
    "print(\"content :\", contens[0:10])"
   ]
  },
  {
   "cell_type": "code",
   "execution_count": 20,
   "metadata": {},
   "outputs": [],
   "source": [
    "df.to_csv('bibleCNV.csv',encoding='utf8')"
   ]
  }
 ],
 "metadata": {
  "kernelspec": {
   "display_name": "Python 3",
   "language": "python",
   "name": "python3"
  },
  "language_info": {
   "codemirror_mode": {
    "name": "ipython",
    "version": 3
   },
   "file_extension": ".py",
   "mimetype": "text/x-python",
   "name": "python",
   "nbconvert_exporter": "python",
   "pygments_lexer": "ipython3",
   "version": "3.6.5"
  }
 },
 "nbformat": 4,
 "nbformat_minor": 2
}
