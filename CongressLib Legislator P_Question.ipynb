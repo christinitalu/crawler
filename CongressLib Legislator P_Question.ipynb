{
 "cells": [
  {
   "cell_type": "code",
   "execution_count": 5,
   "metadata": {},
   "outputs": [
    {
     "name": "stdout",
     "output_type": "stream",
     "text": [
      "Collecting selenium\n",
      "\u001b[?25l  Downloading https://files.pythonhosted.org/packages/80/d6/4294f0b4bce4de0abf13e17190289f9d0613b0a44e5dd6a7f5ca98459853/selenium-3.141.0-py2.py3-none-any.whl (904kB)\n",
      "\u001b[K    100% |████████████████████████████████| 911kB 1.8MB/s ta 0:00:01\n",
      "\u001b[?25hRequirement already satisfied: urllib3 in ./anaconda3/lib/python3.6/site-packages (from selenium) (1.22)\n",
      "\u001b[31mdistributed 1.21.8 requires msgpack, which is not installed.\u001b[0m\n",
      "Installing collected packages: selenium\n",
      "Successfully installed selenium-3.141.0\n",
      "\u001b[33mYou are using pip version 10.0.1, however version 19.0.2 is available.\n",
      "You should consider upgrading via the 'pip install --upgrade pip' command.\u001b[0m\n"
     ]
    }
   ],
   "source": [
    "#下載安裝selenium\n",
    "import sys\n",
    "!{sys.executable} -m pip install selenium"
   ]
  },
  {
   "cell_type": "code",
   "execution_count": 268,
   "metadata": {},
   "outputs": [],
   "source": [
    "from selenium import webdriver\n",
    "import re\n",
    "import time\n",
    "import random\n",
    "import pandas as pd"
   ]
  },
  {
   "cell_type": "code",
   "execution_count": 279,
   "metadata": {},
   "outputs": [
    {
     "name": "stderr",
     "output_type": "stream",
     "text": [
      "/Users/apple/anaconda3/lib/python3.6/site-packages/ipykernel_launcher.py:18: DeprecationWarning: use driver.switch_to.window instead\n"
     ]
    },
    {
     "name": "stdout",
     "output_type": "stream",
     "text": [
      "1  案由 : 就莫拉克颱風侵襲台灣 ...\n",
      "2  案由 : 為因應原鄉部落短期內 ...\n",
      "3  案由 : 鑒於南投縣仁愛鄉境內 ...\n",
      "4  案由 : 為協助都會區原住民解 ...\n",
      "5  案由 : 為提升原住民警員比例 ...\n",
      "        title category          topic               keywords\n",
      "1  就莫拉克颱風侵襲台灣     消防防災           災害救助  莫拉克颱風 ; 水患 ; 坍崩 ; 土石流\n",
      "2  為因應原鄉部落短期內     消防防災           災害救助             原住民災區 ; 流籠\n",
      "3  鑒於南投縣仁愛鄉境內       觀光           觀光政策                霧社國家風景區\n",
      "4  為協助都會區原住民解     原民事務  原住民族政策 ; 住宅政策          都會區原住民 ; 住宅問題\n",
      "5  為提升原住民警員比例     原民事務    原住民族就業 ; 警察                原住民警員專班\n"
     ]
    },
    {
     "name": "stderr",
     "output_type": "stream",
     "text": [
      "/Users/apple/anaconda3/lib/python3.6/site-packages/ipykernel_launcher.py:77: DeprecationWarning: use driver.switch_to.window instead\n"
     ]
    }
   ],
   "source": [
    "#建立一個dataframe，及欄位名稱\"title\",\"category\",\"topic\",\"keywords\"\n",
    "df=pd.DataFrame(columns=[\"title\",\"category\",\"topic\",\"keywords\"])\n",
    "\n",
    "#開起chrome瀏覽器\n",
    "driver = webdriver.Chrome('./chromedriver')\n",
    "driver.implicitly_wait(60)\n",
    "#開起立法院圖書館委員問政專輯頁面,並點選『立法菁英』\n",
    "driver.get('https://lis.ly.gov.tw/lylegismc/lylegismemkmout?@@0.6259989951044278')\n",
    "driver.find_element_by_xpath(\"\"\"//*[@id=\"Map\"]/area[1]\"\"\").click()\n",
    "\n",
    "#選到第七屆\n",
    "driver.find_element_by_link_text(\"7\").click()\n",
    "\n",
    "#點選立法委員，會開啟新頁面，並將操控瀏覽器轉換至新頁面操控\n",
    "legislator=\"孔文吉\"\n",
    "\n",
    "driver.find_element_by_link_text(legislator).click()\n",
    "driver.switch_to_window(driver.window_handles[1])\n",
    "#點選問政成果\n",
    "driver.find_element_by_xpath(\"\"\"//*[@id=\"menu02\"]\"\"\").click()\n",
    "#點選委員質詢\n",
    "driver.find_element_by_xpath(\"\"\"//*[@id=\"pop02\"]/a\"\"\").click()\n",
    "#點選專案質詢\n",
    "driver.find_element_by_link_text(\"專案質詢\").click()\n",
    "\n",
    "#抓出共幾筆專案質詢x,並將x轉成int\n",
    "x=driver.find_element_by_xpath(\"\"\"/html/body/form/table/tbody/tr[3]/td/table/tbody/tr[3]/td[2]/table/tbody/tr[4]/td/table/tbody/tr/td[2]/table/tbody/tr/td[3]/div[2]/a\"\"\").text\n",
    "x=re.sub('\\[','',x)\n",
    "x=int(re.sub('\\]','',x))\n",
    "\n",
    "#點選序號１\n",
    "driver.find_element_by_xpath(\"\"\"/html/body/form/table/tbody/tr[3]/td/table/tbody/tr[3]/td[2]/table/tbody/tr[5]/td/table/tbody/tr/td/table/tbody/tr[2]/td[3]/a\"\"\").click()\n",
    "\n",
    "#開始迭代，從１到ｘ次(x加1不執行)\n",
    "for i in range(1,x+1):\n",
    "    if i == 1 :\n",
    "        title=driver.find_element_by_xpath(\"\"\"/html/body/form/table/tbody/tr[3]/td/table/tbody/tr/td[2]/table/tbody/tr[2]/td/table/tbody/tr[4]/td[2]\"\"\").text\n",
    "        category= driver.find_element_by_xpath(\"\"\"/html/body/form/table/tbody/tr[3]/td/table/tbody/tr/td[2]/table/tbody/tr[2]/td/table/tbody/tr[12]/td[2]\"\"\").text\n",
    "        topic=driver.find_element_by_xpath(\"\"\"/html/body/form/table/tbody/tr[3]/td/table/tbody/tr/td[2]/table/tbody/tr[2]/td/table/tbody/tr[13]/td[2]\"\"\").text\n",
    "        keywords=driver.find_element_by_xpath(\"\"\"/html/body/form/table/tbody/tr[3]/td/table/tbody/tr/td[2]/table/tbody/tr[2]/td/table/tbody/tr[14]/td[2]\"\"\").text\n",
    "        #title取前10個字\n",
    "        title=title[0:10]\n",
    "        df.loc[i] = [title,category,topic,keywords]\n",
    "        print(i, \" 案由 :\",title,\"...\")\n",
    "#         print(\"1.類別：\",category)\n",
    "#         print(\"2.主題：\",topic)\n",
    "#         print(\"3.關鍵字 : \",keywords )\n",
    "\n",
    "\n",
    "        #選取下一筆,只有轉跳到第二筆用此Xpath\n",
    "        driver.find_element_by_xpath(\"\"\"/html/body/form/table/tbody/tr[3]/td/table/tbody/tr/td[2]/table/tbody/tr[1]/td/table/tbody/tr/td[2]/input[2]\"\"\").click()\n",
    "\n",
    "    if i >1 :\n",
    "        title=driver.find_element_by_xpath(\"\"\"/html/body/form/table/tbody/tr[3]/td/table/tbody/tr/td[2]/table/tbody/tr[2]/td/table/tbody/tr[4]/td[2]\"\"\").text\n",
    "        category= driver.find_element_by_xpath(\"\"\"/html/body/form/table/tbody/tr[3]/td/table/tbody/tr/td[2]/table/tbody/tr[2]/td/table/tbody/tr[12]/td[2]\"\"\").text\n",
    "        topic=driver.find_element_by_xpath(\"\"\"/html/body/form/table/tbody/tr[3]/td/table/tbody/tr/td[2]/table/tbody/tr[2]/td/table/tbody/tr[13]/td[2]\"\"\").text\n",
    "        keywords=driver.find_element_by_xpath(\"\"\"/html/body/form/table/tbody/tr[3]/td/table/tbody/tr/td[2]/table/tbody/tr[2]/td/table/tbody/tr[14]/td[2]\"\"\").text\n",
    "        #title取前10個字\n",
    "        title=title[0:10]\n",
    "        df.loc[i] = [title,category,topic,keywords]\n",
    "        print(i,\" 案由 :\",title,\"...\")\n",
    "#         print(\"1.類別：\",category)\n",
    "#         print(\"2.主題：\",topic)\n",
    "#         print(\"3.關鍵字 : \",keywords )\n",
    "\n",
    "#隨機停頓模擬人的行為\n",
    "        time.sleep(random.uniform(0, 2))\n",
    "\n",
    "        #轉跳到第三筆及之後都使用此Xpath\n",
    "        driver.find_element_by_xpath(\"\"\"/html/body/form/table/tbody/tr[3]/td/table/tbody/tr/td[2]/table/tbody/tr[1]/td/table/tbody/tr/td[2]/input[3]\"\"\").click()\n",
    "\n",
    "        \n",
    "print(df)\n",
    "df.to_excel(legislator+\".xls\")\n",
    "driver.close()\n",
    "driver.switch_to_window(driver.window_handles[0])\n",
    "driver.quit()"
   ]
  },
  {
   "cell_type": "code",
   "execution_count": 280,
   "metadata": {},
   "outputs": [],
   "source": []
  }
 ],
 "metadata": {
  "kernelspec": {
   "display_name": "Python 3",
   "language": "python",
   "name": "python3"
  },
  "language_info": {
   "codemirror_mode": {
    "name": "ipython",
    "version": 3
   },
   "file_extension": ".py",
   "mimetype": "text/x-python",
   "name": "python",
   "nbconvert_exporter": "python",
   "pygments_lexer": "ipython3",
   "version": "3.6.5"
  }
 },
 "nbformat": 4,
 "nbformat_minor": 2
}
